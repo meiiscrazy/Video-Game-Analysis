{
 "cells": [
  {
   "cell_type": "code",
   "execution_count": 4,
   "metadata": {},
   "outputs": [],
   "source": [
    "import pandas as pd\n",
    "import psycopg2\n",
    "import sqlalchemy\n",
    "from sqlalchemy import create_engine\n",
    "import requests\n",
    "from config import db_password"
   ]
  },
  {
   "cell_type": "code",
   "execution_count": 5,
   "metadata": {},
   "outputs": [],
   "source": [
    "# Load data\n",
    "protocol = \"postgres\"\n",
    "user = \"postgres\"\n",
    "location = \"localhost\"\n",
    "port = \"5433\"\n",
    "db = \"video_game\"\n",
    "\n",
    "connection_string = f'{protocol}://{user}:{db_password}@{location}:{port}/{db}'\n",
    "engine = create_engine(connection_string)"
   ]
  },
  {
   "cell_type": "code",
   "execution_count": 6,
   "metadata": {},
   "outputs": [
    {
     "data": {
      "text/html": [
       "<div>\n",
       "<style scoped>\n",
       "    .dataframe tbody tr th:only-of-type {\n",
       "        vertical-align: middle;\n",
       "    }\n",
       "\n",
       "    .dataframe tbody tr th {\n",
       "        vertical-align: top;\n",
       "    }\n",
       "\n",
       "    .dataframe thead th {\n",
       "        text-align: right;\n",
       "    }\n",
       "</style>\n",
       "<table border=\"1\" class=\"dataframe\">\n",
       "  <thead>\n",
       "    <tr style=\"text-align: right;\">\n",
       "      <th></th>\n",
       "      <th>name</th>\n",
       "      <th>na_sales</th>\n",
       "      <th>median_playtime</th>\n",
       "      <th>positive_ratings</th>\n",
       "      <th>negative_ratings</th>\n",
       "      <th>average_ratings</th>\n",
       "      <th>critic_score</th>\n",
       "      <th>price</th>\n",
       "    </tr>\n",
       "  </thead>\n",
       "  <tbody>\n",
       "    <tr>\n",
       "      <th>0</th>\n",
       "      <td>Grand Theft Auto V</td>\n",
       "      <td>6.37</td>\n",
       "      <td>4834</td>\n",
       "      <td>329061</td>\n",
       "      <td>139308</td>\n",
       "      <td>9837</td>\n",
       "      <td>9.4</td>\n",
       "      <td>24.99</td>\n",
       "    </tr>\n",
       "    <tr>\n",
       "      <th>1</th>\n",
       "      <td>Grand Theft Auto V</td>\n",
       "      <td>6.06</td>\n",
       "      <td>4834</td>\n",
       "      <td>329061</td>\n",
       "      <td>139308</td>\n",
       "      <td>9837</td>\n",
       "      <td>9.7</td>\n",
       "      <td>24.99</td>\n",
       "    </tr>\n",
       "    <tr>\n",
       "      <th>2</th>\n",
       "      <td>Garry's Mod</td>\n",
       "      <td>NaN</td>\n",
       "      <td>1875</td>\n",
       "      <td>363721</td>\n",
       "      <td>16433</td>\n",
       "      <td>12422</td>\n",
       "      <td>NaN</td>\n",
       "      <td>6.99</td>\n",
       "    </tr>\n",
       "    <tr>\n",
       "      <th>3</th>\n",
       "      <td>Grand Theft Auto: San Andreas</td>\n",
       "      <td>NaN</td>\n",
       "      <td>249</td>\n",
       "      <td>26877</td>\n",
       "      <td>3243</td>\n",
       "      <td>807</td>\n",
       "      <td>9.5</td>\n",
       "      <td>9.99</td>\n",
       "    </tr>\n",
       "    <tr>\n",
       "      <th>4</th>\n",
       "      <td>Grand Theft Auto: Vice City</td>\n",
       "      <td>8.41</td>\n",
       "      <td>93</td>\n",
       "      <td>9817</td>\n",
       "      <td>819</td>\n",
       "      <td>209</td>\n",
       "      <td>9.6</td>\n",
       "      <td>5.99</td>\n",
       "    </tr>\n",
       "  </tbody>\n",
       "</table>\n",
       "</div>"
      ],
      "text/plain": [
       "                            name  na_sales  median_playtime  positive_ratings  \\\n",
       "0             Grand Theft Auto V      6.37             4834            329061   \n",
       "1             Grand Theft Auto V      6.06             4834            329061   \n",
       "2                    Garry's Mod       NaN             1875            363721   \n",
       "3  Grand Theft Auto: San Andreas       NaN              249             26877   \n",
       "4    Grand Theft Auto: Vice City      8.41               93              9817   \n",
       "\n",
       "   negative_ratings  average_ratings  critic_score  price  \n",
       "0            139308             9837           9.4  24.99  \n",
       "1            139308             9837           9.7  24.99  \n",
       "2             16433            12422           NaN   6.99  \n",
       "3              3243              807           9.5   9.99  \n",
       "4               819              209           9.6   5.99  "
      ]
     },
     "execution_count": 6,
     "metadata": {},
     "output_type": "execute_result"
    }
   ],
   "source": [
    "game_name_rating_df = pd.read_sql_table('game_name_rating',con=engine)\n",
    "game_name_rating_df.head()"
   ]
  },
  {
   "cell_type": "code",
   "execution_count": null,
   "metadata": {},
   "outputs": [],
   "source": []
  }
 ],
 "metadata": {
  "kernelspec": {
   "display_name": "Python 3",
   "language": "python",
   "name": "python3"
  },
  "language_info": {
   "codemirror_mode": {
    "name": "ipython",
    "version": 3
   },
   "file_extension": ".py",
   "mimetype": "text/x-python",
   "name": "python",
   "nbconvert_exporter": "python",
   "pygments_lexer": "ipython3",
   "version": "3.7.6"
  }
 },
 "nbformat": 4,
 "nbformat_minor": 4
}
