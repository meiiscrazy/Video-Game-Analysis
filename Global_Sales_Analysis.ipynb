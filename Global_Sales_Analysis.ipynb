{
 "cells": [
  {
   "cell_type": "code",
   "execution_count": 2,
   "metadata": {},
   "outputs": [],
   "source": [
    "# Import dependencies\n",
    "import pandas as pd\n",
    "import numpy as np\n",
    "from pathlib import Path"
   ]
  },
  {
   "cell_type": "code",
   "execution_count": 3,
   "metadata": {},
   "outputs": [
    {
     "data": {
      "text/html": [
       "<div>\n",
       "<style scoped>\n",
       "    .dataframe tbody tr th:only-of-type {\n",
       "        vertical-align: middle;\n",
       "    }\n",
       "\n",
       "    .dataframe tbody tr th {\n",
       "        vertical-align: top;\n",
       "    }\n",
       "\n",
       "    .dataframe thead th {\n",
       "        text-align: right;\n",
       "    }\n",
       "</style>\n",
       "<table border=\"1\" class=\"dataframe\">\n",
       "  <thead>\n",
       "    <tr style=\"text-align: right;\">\n",
       "      <th></th>\n",
       "      <th>Rank</th>\n",
       "      <th>Name</th>\n",
       "      <th>basename</th>\n",
       "      <th>Genre</th>\n",
       "      <th>ESRB_Rating</th>\n",
       "      <th>Platform</th>\n",
       "      <th>Publisher</th>\n",
       "      <th>Developer</th>\n",
       "      <th>VGChartz_Score</th>\n",
       "      <th>Critic_Score</th>\n",
       "      <th>...</th>\n",
       "      <th>NA_Sales</th>\n",
       "      <th>PAL_Sales</th>\n",
       "      <th>JP_Sales</th>\n",
       "      <th>Other_Sales</th>\n",
       "      <th>Year</th>\n",
       "      <th>Last_Update</th>\n",
       "      <th>url</th>\n",
       "      <th>status</th>\n",
       "      <th>Vgchartzscore</th>\n",
       "      <th>img_url</th>\n",
       "    </tr>\n",
       "  </thead>\n",
       "  <tbody>\n",
       "    <tr>\n",
       "      <th>0</th>\n",
       "      <td>1</td>\n",
       "      <td>Wii Sports</td>\n",
       "      <td>wii-sports</td>\n",
       "      <td>Sports</td>\n",
       "      <td>E</td>\n",
       "      <td>Wii</td>\n",
       "      <td>Nintendo</td>\n",
       "      <td>Nintendo EAD</td>\n",
       "      <td>NaN</td>\n",
       "      <td>7.7</td>\n",
       "      <td>...</td>\n",
       "      <td>NaN</td>\n",
       "      <td>NaN</td>\n",
       "      <td>NaN</td>\n",
       "      <td>NaN</td>\n",
       "      <td>2006.0</td>\n",
       "      <td>NaN</td>\n",
       "      <td>http://www.vgchartz.com/game/2667/wii-sports/?...</td>\n",
       "      <td>1</td>\n",
       "      <td>NaN</td>\n",
       "      <td>/games/boxart/full_2258645AmericaFrontccc.jpg</td>\n",
       "    </tr>\n",
       "    <tr>\n",
       "      <th>1</th>\n",
       "      <td>2</td>\n",
       "      <td>Super Mario Bros.</td>\n",
       "      <td>super-mario-bros</td>\n",
       "      <td>Platform</td>\n",
       "      <td>NaN</td>\n",
       "      <td>NES</td>\n",
       "      <td>Nintendo</td>\n",
       "      <td>Nintendo EAD</td>\n",
       "      <td>NaN</td>\n",
       "      <td>10.0</td>\n",
       "      <td>...</td>\n",
       "      <td>NaN</td>\n",
       "      <td>NaN</td>\n",
       "      <td>NaN</td>\n",
       "      <td>NaN</td>\n",
       "      <td>1985.0</td>\n",
       "      <td>NaN</td>\n",
       "      <td>http://www.vgchartz.com/game/6455/super-mario-...</td>\n",
       "      <td>1</td>\n",
       "      <td>NaN</td>\n",
       "      <td>/games/boxart/8972270ccc.jpg</td>\n",
       "    </tr>\n",
       "    <tr>\n",
       "      <th>2</th>\n",
       "      <td>3</td>\n",
       "      <td>Mario Kart Wii</td>\n",
       "      <td>mario-kart-wii</td>\n",
       "      <td>Racing</td>\n",
       "      <td>E</td>\n",
       "      <td>Wii</td>\n",
       "      <td>Nintendo</td>\n",
       "      <td>Nintendo EAD</td>\n",
       "      <td>NaN</td>\n",
       "      <td>8.2</td>\n",
       "      <td>...</td>\n",
       "      <td>NaN</td>\n",
       "      <td>NaN</td>\n",
       "      <td>NaN</td>\n",
       "      <td>NaN</td>\n",
       "      <td>2008.0</td>\n",
       "      <td>11th Apr 18</td>\n",
       "      <td>http://www.vgchartz.com/game/6968/mario-kart-w...</td>\n",
       "      <td>1</td>\n",
       "      <td>8.7</td>\n",
       "      <td>/games/boxart/full_8932480AmericaFrontccc.jpg</td>\n",
       "    </tr>\n",
       "    <tr>\n",
       "      <th>3</th>\n",
       "      <td>4</td>\n",
       "      <td>PlayerUnknown's Battlegrounds</td>\n",
       "      <td>playerunknowns-battlegrounds</td>\n",
       "      <td>Shooter</td>\n",
       "      <td>NaN</td>\n",
       "      <td>PC</td>\n",
       "      <td>PUBG Corporation</td>\n",
       "      <td>PUBG Corporation</td>\n",
       "      <td>NaN</td>\n",
       "      <td>NaN</td>\n",
       "      <td>...</td>\n",
       "      <td>NaN</td>\n",
       "      <td>NaN</td>\n",
       "      <td>NaN</td>\n",
       "      <td>NaN</td>\n",
       "      <td>2017.0</td>\n",
       "      <td>13th Nov 18</td>\n",
       "      <td>http://www.vgchartz.com/game/215988/playerunkn...</td>\n",
       "      <td>1</td>\n",
       "      <td>NaN</td>\n",
       "      <td>/games/boxart/full_8052843AmericaFrontccc.jpg</td>\n",
       "    </tr>\n",
       "    <tr>\n",
       "      <th>4</th>\n",
       "      <td>5</td>\n",
       "      <td>Wii Sports Resort</td>\n",
       "      <td>wii-sports-resort</td>\n",
       "      <td>Sports</td>\n",
       "      <td>E</td>\n",
       "      <td>Wii</td>\n",
       "      <td>Nintendo</td>\n",
       "      <td>Nintendo EAD</td>\n",
       "      <td>NaN</td>\n",
       "      <td>8.0</td>\n",
       "      <td>...</td>\n",
       "      <td>NaN</td>\n",
       "      <td>NaN</td>\n",
       "      <td>NaN</td>\n",
       "      <td>NaN</td>\n",
       "      <td>2009.0</td>\n",
       "      <td>NaN</td>\n",
       "      <td>http://www.vgchartz.com/game/24656/wii-sports-...</td>\n",
       "      <td>1</td>\n",
       "      <td>8.8</td>\n",
       "      <td>/games/boxart/full_7295041AmericaFrontccc.jpg</td>\n",
       "    </tr>\n",
       "  </tbody>\n",
       "</table>\n",
       "<p>5 rows × 23 columns</p>\n",
       "</div>"
      ],
      "text/plain": [
       "   Rank                           Name                      basename  \\\n",
       "0     1                     Wii Sports                    wii-sports   \n",
       "1     2              Super Mario Bros.              super-mario-bros   \n",
       "2     3                 Mario Kart Wii                mario-kart-wii   \n",
       "3     4  PlayerUnknown's Battlegrounds  playerunknowns-battlegrounds   \n",
       "4     5              Wii Sports Resort             wii-sports-resort   \n",
       "\n",
       "      Genre ESRB_Rating Platform         Publisher         Developer  \\\n",
       "0    Sports           E      Wii          Nintendo      Nintendo EAD   \n",
       "1  Platform         NaN      NES          Nintendo      Nintendo EAD   \n",
       "2    Racing           E      Wii          Nintendo      Nintendo EAD   \n",
       "3   Shooter         NaN       PC  PUBG Corporation  PUBG Corporation   \n",
       "4    Sports           E      Wii          Nintendo      Nintendo EAD   \n",
       "\n",
       "   VGChartz_Score  Critic_Score  ...  NA_Sales  PAL_Sales  JP_Sales  \\\n",
       "0             NaN           7.7  ...       NaN        NaN       NaN   \n",
       "1             NaN          10.0  ...       NaN        NaN       NaN   \n",
       "2             NaN           8.2  ...       NaN        NaN       NaN   \n",
       "3             NaN           NaN  ...       NaN        NaN       NaN   \n",
       "4             NaN           8.0  ...       NaN        NaN       NaN   \n",
       "\n",
       "   Other_Sales    Year  Last_Update  \\\n",
       "0          NaN  2006.0          NaN   \n",
       "1          NaN  1985.0          NaN   \n",
       "2          NaN  2008.0  11th Apr 18   \n",
       "3          NaN  2017.0  13th Nov 18   \n",
       "4          NaN  2009.0          NaN   \n",
       "\n",
       "                                                 url  status Vgchartzscore  \\\n",
       "0  http://www.vgchartz.com/game/2667/wii-sports/?...       1           NaN   \n",
       "1  http://www.vgchartz.com/game/6455/super-mario-...       1           NaN   \n",
       "2  http://www.vgchartz.com/game/6968/mario-kart-w...       1           8.7   \n",
       "3  http://www.vgchartz.com/game/215988/playerunkn...       1           NaN   \n",
       "4  http://www.vgchartz.com/game/24656/wii-sports-...       1           8.8   \n",
       "\n",
       "                                         img_url  \n",
       "0  /games/boxart/full_2258645AmericaFrontccc.jpg  \n",
       "1                   /games/boxart/8972270ccc.jpg  \n",
       "2  /games/boxart/full_8932480AmericaFrontccc.jpg  \n",
       "3  /games/boxart/full_8052843AmericaFrontccc.jpg  \n",
       "4  /games/boxart/full_7295041AmericaFrontccc.jpg  \n",
       "\n",
       "[5 rows x 23 columns]"
      ]
     },
     "execution_count": 3,
     "metadata": {},
     "output_type": "execute_result"
    }
   ],
   "source": [
    "# Import our input dataset\n",
    "file_path = Path('./Resources/vgsales-12-4-2019.csv')\n",
    "vgsales_df = pd.read_csv(file_path)\n",
    "vgsales_df.head()"
   ]
  },
  {
   "cell_type": "code",
   "execution_count": 4,
   "metadata": {},
   "outputs": [
    {
     "data": {
      "text/plain": [
       "['Rank',\n",
       " 'Name',\n",
       " 'basename',\n",
       " 'Genre',\n",
       " 'ESRB_Rating',\n",
       " 'Platform',\n",
       " 'Publisher',\n",
       " 'Developer',\n",
       " 'VGChartz_Score',\n",
       " 'Critic_Score',\n",
       " 'User_Score',\n",
       " 'Total_Shipped',\n",
       " 'Global_Sales',\n",
       " 'NA_Sales',\n",
       " 'PAL_Sales',\n",
       " 'JP_Sales',\n",
       " 'Other_Sales',\n",
       " 'Year',\n",
       " 'Last_Update',\n",
       " 'url',\n",
       " 'status',\n",
       " 'Vgchartzscore',\n",
       " 'img_url']"
      ]
     },
     "execution_count": 4,
     "metadata": {},
     "output_type": "execute_result"
    }
   ],
   "source": [
    "vgsales_df.columns.tolist()"
   ]
  },
  {
   "cell_type": "code",
   "execution_count": 5,
   "metadata": {},
   "outputs": [
    {
     "data": {
      "text/plain": [
       "Rank                int64\n",
       "Name               object\n",
       "basename           object\n",
       "Genre              object\n",
       "ESRB_Rating        object\n",
       "Platform           object\n",
       "Publisher          object\n",
       "Developer          object\n",
       "VGChartz_Score    float64\n",
       "Critic_Score      float64\n",
       "User_Score        float64\n",
       "Total_Shipped     float64\n",
       "Global_Sales      float64\n",
       "NA_Sales          float64\n",
       "PAL_Sales         float64\n",
       "JP_Sales          float64\n",
       "Other_Sales       float64\n",
       "Year              float64\n",
       "Last_Update        object\n",
       "url                object\n",
       "status              int64\n",
       "Vgchartzscore     float64\n",
       "img_url            object\n",
       "dtype: object"
      ]
     },
     "execution_count": 5,
     "metadata": {},
     "output_type": "execute_result"
    }
   ],
   "source": [
    "vgsales_df.dtypes"
   ]
  },
  {
   "cell_type": "code",
   "execution_count": 6,
   "metadata": {
    "scrolled": true
   },
   "outputs": [
    {
     "data": {
      "text/plain": [
       "Rank              55792\n",
       "Name              55792\n",
       "basename          55792\n",
       "Genre             55792\n",
       "ESRB_Rating       23623\n",
       "Platform          55792\n",
       "Publisher         55792\n",
       "Developer         55775\n",
       "VGChartz_Score        0\n",
       "Critic_Score       6536\n",
       "User_Score          335\n",
       "Total_Shipped      1827\n",
       "Global_Sales      19415\n",
       "NA_Sales          12964\n",
       "PAL_Sales         13189\n",
       "JP_Sales           7043\n",
       "Other_Sales       15522\n",
       "Year              54813\n",
       "Last_Update        9186\n",
       "url               55792\n",
       "status            55792\n",
       "Vgchartzscore       799\n",
       "img_url           55792\n",
       "dtype: int64"
      ]
     },
     "execution_count": 6,
     "metadata": {},
     "output_type": "execute_result"
    }
   ],
   "source": [
    "vgsales_df.count()"
   ]
  },
  {
   "cell_type": "code",
   "execution_count": 7,
   "metadata": {},
   "outputs": [
    {
     "data": {
      "text/html": [
       "<div>\n",
       "<style scoped>\n",
       "    .dataframe tbody tr th:only-of-type {\n",
       "        vertical-align: middle;\n",
       "    }\n",
       "\n",
       "    .dataframe tbody tr th {\n",
       "        vertical-align: top;\n",
       "    }\n",
       "\n",
       "    .dataframe thead th {\n",
       "        text-align: right;\n",
       "    }\n",
       "</style>\n",
       "<table border=\"1\" class=\"dataframe\">\n",
       "  <thead>\n",
       "    <tr style=\"text-align: right;\">\n",
       "      <th></th>\n",
       "      <th>Name</th>\n",
       "      <th>Genre</th>\n",
       "      <th>ESRB_Rating</th>\n",
       "      <th>Platform</th>\n",
       "      <th>Publisher</th>\n",
       "      <th>Developer</th>\n",
       "      <th>Global_Sales</th>\n",
       "      <th>Year</th>\n",
       "    </tr>\n",
       "  </thead>\n",
       "  <tbody>\n",
       "    <tr>\n",
       "      <th>0</th>\n",
       "      <td>Wii Sports</td>\n",
       "      <td>Sports</td>\n",
       "      <td>E</td>\n",
       "      <td>Wii</td>\n",
       "      <td>Nintendo</td>\n",
       "      <td>Nintendo EAD</td>\n",
       "      <td>NaN</td>\n",
       "      <td>2006.0</td>\n",
       "    </tr>\n",
       "    <tr>\n",
       "      <th>1</th>\n",
       "      <td>Super Mario Bros.</td>\n",
       "      <td>Platform</td>\n",
       "      <td>NaN</td>\n",
       "      <td>NES</td>\n",
       "      <td>Nintendo</td>\n",
       "      <td>Nintendo EAD</td>\n",
       "      <td>NaN</td>\n",
       "      <td>1985.0</td>\n",
       "    </tr>\n",
       "    <tr>\n",
       "      <th>2</th>\n",
       "      <td>Mario Kart Wii</td>\n",
       "      <td>Racing</td>\n",
       "      <td>E</td>\n",
       "      <td>Wii</td>\n",
       "      <td>Nintendo</td>\n",
       "      <td>Nintendo EAD</td>\n",
       "      <td>NaN</td>\n",
       "      <td>2008.0</td>\n",
       "    </tr>\n",
       "    <tr>\n",
       "      <th>3</th>\n",
       "      <td>PlayerUnknown's Battlegrounds</td>\n",
       "      <td>Shooter</td>\n",
       "      <td>NaN</td>\n",
       "      <td>PC</td>\n",
       "      <td>PUBG Corporation</td>\n",
       "      <td>PUBG Corporation</td>\n",
       "      <td>NaN</td>\n",
       "      <td>2017.0</td>\n",
       "    </tr>\n",
       "    <tr>\n",
       "      <th>4</th>\n",
       "      <td>Wii Sports Resort</td>\n",
       "      <td>Sports</td>\n",
       "      <td>E</td>\n",
       "      <td>Wii</td>\n",
       "      <td>Nintendo</td>\n",
       "      <td>Nintendo EAD</td>\n",
       "      <td>NaN</td>\n",
       "      <td>2009.0</td>\n",
       "    </tr>\n",
       "  </tbody>\n",
       "</table>\n",
       "</div>"
      ],
      "text/plain": [
       "                            Name     Genre ESRB_Rating Platform  \\\n",
       "0                     Wii Sports    Sports           E      Wii   \n",
       "1              Super Mario Bros.  Platform         NaN      NES   \n",
       "2                 Mario Kart Wii    Racing           E      Wii   \n",
       "3  PlayerUnknown's Battlegrounds   Shooter         NaN       PC   \n",
       "4              Wii Sports Resort    Sports           E      Wii   \n",
       "\n",
       "          Publisher         Developer  Global_Sales    Year  \n",
       "0          Nintendo      Nintendo EAD           NaN  2006.0  \n",
       "1          Nintendo      Nintendo EAD           NaN  1985.0  \n",
       "2          Nintendo      Nintendo EAD           NaN  2008.0  \n",
       "3  PUBG Corporation  PUBG Corporation           NaN  2017.0  \n",
       "4          Nintendo      Nintendo EAD           NaN  2009.0  "
      ]
     },
     "execution_count": 7,
     "metadata": {},
     "output_type": "execute_result"
    }
   ],
   "source": [
    "# Drop columns:\n",
    "# Rank: just numbers in order, not real ranking\n",
    "# status: only one status 1, not sure what is that\n",
    "# Last_Update: unneccessary\n",
    "# VGChartz_Score: no values\n",
    "vg_global_sales_df = vgsales_df.drop(['Rank', 'Last_Update', \n",
    "                                   'status', 'VGChartz_Score','Vgchartzscore',\n",
    "                                   'Critic_Score', 'User_Score', 'Total_Shipped',\n",
    "                                  'NA_Sales', 'PAL_Sales', 'JP_Sales', 'Other_Sales', 'url', 'img_url', 'basename'], axis = 1)\n",
    "vg_global_sales_df.head(5)"
   ]
  },
  {
   "cell_type": "code",
   "execution_count": 8,
   "metadata": {},
   "outputs": [
    {
     "data": {
      "text/plain": [
       "Name            55792\n",
       "Genre           55792\n",
       "ESRB_Rating     23623\n",
       "Platform        55792\n",
       "Publisher       55792\n",
       "Developer       55775\n",
       "Global_Sales    19415\n",
       "Year            54813\n",
       "dtype: int64"
      ]
     },
     "execution_count": 8,
     "metadata": {},
     "output_type": "execute_result"
    }
   ],
   "source": [
    "vg_global_sales_df.count()"
   ]
  },
  {
   "cell_type": "code",
   "execution_count": 9,
   "metadata": {},
   "outputs": [
    {
     "name": "stdout",
     "output_type": "stream",
     "text": [
      "Column Name has 0 null values\n",
      "Column Genre has 0 null values\n",
      "Column ESRB_Rating has 32169 null values\n",
      "Column Platform has 0 null values\n",
      "Column Publisher has 0 null values\n",
      "Column Developer has 17 null values\n",
      "Column Global_Sales has 36377 null values\n",
      "Column Year has 979 null values\n"
     ]
    }
   ],
   "source": [
    "# Find null value\n",
    "for column in vg_global_sales_df.columns:\n",
    "    print(f'Column {column} has {vg_global_sales_df[column].isnull().sum()} null values')"
   ]
  },
  {
   "cell_type": "code",
   "execution_count": 10,
   "metadata": {},
   "outputs": [],
   "source": [
    "vg_global_sales_df = vg_global_sales_df.dropna()"
   ]
  },
  {
   "cell_type": "code",
   "execution_count": 11,
   "metadata": {},
   "outputs": [
    {
     "name": "stdout",
     "output_type": "stream",
     "text": [
      "Column Name has 0 null values\n",
      "Column Genre has 0 null values\n",
      "Column ESRB_Rating has 0 null values\n",
      "Column Platform has 0 null values\n",
      "Column Publisher has 0 null values\n",
      "Column Developer has 0 null values\n",
      "Column Global_Sales has 0 null values\n",
      "Column Year has 0 null values\n"
     ]
    }
   ],
   "source": [
    "# Find null value\n",
    "for column in vg_global_sales_df.columns:\n",
    "    print(f'Column {column} has {vg_global_sales_df[column].isnull().sum()} null values')"
   ]
  },
  {
   "cell_type": "code",
   "execution_count": 12,
   "metadata": {},
   "outputs": [
    {
     "data": {
      "text/html": [
       "<div>\n",
       "<style scoped>\n",
       "    .dataframe tbody tr th:only-of-type {\n",
       "        vertical-align: middle;\n",
       "    }\n",
       "\n",
       "    .dataframe tbody tr th {\n",
       "        vertical-align: top;\n",
       "    }\n",
       "\n",
       "    .dataframe thead th {\n",
       "        text-align: right;\n",
       "    }\n",
       "</style>\n",
       "<table border=\"1\" class=\"dataframe\">\n",
       "  <thead>\n",
       "    <tr style=\"text-align: right;\">\n",
       "      <th></th>\n",
       "      <th>Name</th>\n",
       "      <th>Genre</th>\n",
       "      <th>ESRB_Rating</th>\n",
       "      <th>Platform</th>\n",
       "      <th>Publisher</th>\n",
       "      <th>Developer</th>\n",
       "      <th>Global_Sales</th>\n",
       "      <th>Year</th>\n",
       "    </tr>\n",
       "  </thead>\n",
       "  <tbody>\n",
       "    <tr>\n",
       "      <th>19</th>\n",
       "      <td>Grand Theft Auto V</td>\n",
       "      <td>Action</td>\n",
       "      <td>M</td>\n",
       "      <td>PS3</td>\n",
       "      <td>Rockstar Games</td>\n",
       "      <td>Rockstar North</td>\n",
       "      <td>20.32</td>\n",
       "      <td>2013.0</td>\n",
       "    </tr>\n",
       "    <tr>\n",
       "      <th>20</th>\n",
       "      <td>Grand Theft Auto V</td>\n",
       "      <td>Action</td>\n",
       "      <td>M</td>\n",
       "      <td>PS4</td>\n",
       "      <td>Rockstar Games</td>\n",
       "      <td>Rockstar North</td>\n",
       "      <td>19.39</td>\n",
       "      <td>2014.0</td>\n",
       "    </tr>\n",
       "    <tr>\n",
       "      <th>30</th>\n",
       "      <td>Grand Theft Auto: Vice City</td>\n",
       "      <td>Action</td>\n",
       "      <td>M</td>\n",
       "      <td>PS2</td>\n",
       "      <td>Rockstar Games</td>\n",
       "      <td>Rockstar North</td>\n",
       "      <td>16.15</td>\n",
       "      <td>2002.0</td>\n",
       "    </tr>\n",
       "    <tr>\n",
       "      <th>32</th>\n",
       "      <td>Grand Theft Auto V</td>\n",
       "      <td>Action</td>\n",
       "      <td>M</td>\n",
       "      <td>X360</td>\n",
       "      <td>Rockstar Games</td>\n",
       "      <td>Rockstar North</td>\n",
       "      <td>15.86</td>\n",
       "      <td>2013.0</td>\n",
       "    </tr>\n",
       "    <tr>\n",
       "      <th>34</th>\n",
       "      <td>Call of Duty: Black Ops 3</td>\n",
       "      <td>Shooter</td>\n",
       "      <td>M</td>\n",
       "      <td>PS4</td>\n",
       "      <td>Activision</td>\n",
       "      <td>Treyarch</td>\n",
       "      <td>15.09</td>\n",
       "      <td>2015.0</td>\n",
       "    </tr>\n",
       "  </tbody>\n",
       "</table>\n",
       "</div>"
      ],
      "text/plain": [
       "                           Name    Genre ESRB_Rating Platform       Publisher  \\\n",
       "19           Grand Theft Auto V   Action           M      PS3  Rockstar Games   \n",
       "20           Grand Theft Auto V   Action           M      PS4  Rockstar Games   \n",
       "30  Grand Theft Auto: Vice City   Action           M      PS2  Rockstar Games   \n",
       "32           Grand Theft Auto V   Action           M     X360  Rockstar Games   \n",
       "34    Call of Duty: Black Ops 3  Shooter           M      PS4      Activision   \n",
       "\n",
       "         Developer  Global_Sales    Year  \n",
       "19  Rockstar North         20.32  2013.0  \n",
       "20  Rockstar North         19.39  2014.0  \n",
       "30  Rockstar North         16.15  2002.0  \n",
       "32  Rockstar North         15.86  2013.0  \n",
       "34        Treyarch         15.09  2015.0  "
      ]
     },
     "execution_count": 12,
     "metadata": {},
     "output_type": "execute_result"
    }
   ],
   "source": [
    "vg_global_sales_df.head()"
   ]
  },
  {
   "cell_type": "code",
   "execution_count": 13,
   "metadata": {},
   "outputs": [
    {
     "data": {
      "text/plain": [
       "(13790, 8)"
      ]
     },
     "execution_count": 13,
     "metadata": {},
     "output_type": "execute_result"
    }
   ],
   "source": [
    "vg_global_sales_df.shape"
   ]
  },
  {
   "cell_type": "code",
   "execution_count": 14,
   "metadata": {},
   "outputs": [
    {
     "data": {
      "text/plain": [
       "(12801, 8)"
      ]
     },
     "execution_count": 14,
     "metadata": {},
     "output_type": "execute_result"
    }
   ],
   "source": [
    "# Filter and only use data since 2000\n",
    "vg_global_sales_df = vg_global_sales_df[vg_global_sales_df['Year'] >= 2000]\n",
    "vg_global_sales_df.shape"
   ]
  },
  {
   "cell_type": "code",
   "execution_count": 15,
   "metadata": {},
   "outputs": [
    {
     "name": "stdout",
     "output_type": "stream",
     "text": [
      "5744.660000000001\n"
     ]
    }
   ],
   "source": [
    "# Calculate total Global_Sales\n",
    "vg_total_global_sales = vg_global_sales_df['Global_Sales'].sum()\n",
    "print(vg_total_global_sales)"
   ]
  },
  {
   "cell_type": "markdown",
   "metadata": {},
   "source": [
    "# Analyze global sales by Publisher, Developer, Game, Genre"
   ]
  },
  {
   "cell_type": "markdown",
   "metadata": {},
   "source": [
    "#### The core difference between video game developers and publishers is: that developers are responsible for creating the video game while publishers are responsible for marketing, sales, and PR of it."
   ]
  },
  {
   "cell_type": "markdown",
   "metadata": {},
   "source": [
    "## Global Sales by Publisher"
   ]
  },
  {
   "cell_type": "code",
   "execution_count": 16,
   "metadata": {},
   "outputs": [
    {
     "data": {
      "text/plain": [
       "375"
      ]
     },
     "execution_count": 16,
     "metadata": {},
     "output_type": "execute_result"
    }
   ],
   "source": [
    "# Count distinct values of Publisher\n",
    "vg_global_sales_df['Publisher'].nunique()"
   ]
  },
  {
   "cell_type": "code",
   "execution_count": 17,
   "metadata": {},
   "outputs": [
    {
     "data": {
      "text/html": [
       "<div>\n",
       "<style scoped>\n",
       "    .dataframe tbody tr th:only-of-type {\n",
       "        vertical-align: middle;\n",
       "    }\n",
       "\n",
       "    .dataframe tbody tr th {\n",
       "        vertical-align: top;\n",
       "    }\n",
       "\n",
       "    .dataframe thead th {\n",
       "        text-align: right;\n",
       "    }\n",
       "</style>\n",
       "<table border=\"1\" class=\"dataframe\">\n",
       "  <thead>\n",
       "    <tr style=\"text-align: right;\">\n",
       "      <th></th>\n",
       "      <th>Global_Sales</th>\n",
       "    </tr>\n",
       "    <tr>\n",
       "      <th>Publisher</th>\n",
       "      <th></th>\n",
       "    </tr>\n",
       "  </thead>\n",
       "  <tbody>\n",
       "    <tr>\n",
       "      <th>10TACLE Studios</th>\n",
       "      <td>0.45</td>\n",
       "    </tr>\n",
       "    <tr>\n",
       "      <th>14 Degrees East</th>\n",
       "      <td>0.00</td>\n",
       "    </tr>\n",
       "    <tr>\n",
       "      <th>1C Company</th>\n",
       "      <td>0.07</td>\n",
       "    </tr>\n",
       "    <tr>\n",
       "      <th>2K Games</th>\n",
       "      <td>51.10</td>\n",
       "    </tr>\n",
       "    <tr>\n",
       "      <th>2K Play</th>\n",
       "      <td>13.23</td>\n",
       "    </tr>\n",
       "  </tbody>\n",
       "</table>\n",
       "</div>"
      ],
      "text/plain": [
       "                 Global_Sales\n",
       "Publisher                    \n",
       "10TACLE Studios          0.45\n",
       "14 Degrees East          0.00\n",
       "1C Company               0.07\n",
       "2K Games                51.10\n",
       "2K Play                 13.23"
      ]
     },
     "execution_count": 17,
     "metadata": {},
     "output_type": "execute_result"
    }
   ],
   "source": [
    "# Group Publisher and sum\n",
    "vg_global_sales_by_Publisher_df = vg_global_sales_df.groupby('Publisher')[['Global_Sales']].sum()\n",
    "vg_global_sales_by_Publisher_df.head()"
   ]
  },
  {
   "cell_type": "code",
   "execution_count": 18,
   "metadata": {},
   "outputs": [
    {
     "data": {
      "text/html": [
       "<div>\n",
       "<style scoped>\n",
       "    .dataframe tbody tr th:only-of-type {\n",
       "        vertical-align: middle;\n",
       "    }\n",
       "\n",
       "    .dataframe tbody tr th {\n",
       "        vertical-align: top;\n",
       "    }\n",
       "\n",
       "    .dataframe thead th {\n",
       "        text-align: right;\n",
       "    }\n",
       "</style>\n",
       "<table border=\"1\" class=\"dataframe\">\n",
       "  <thead>\n",
       "    <tr style=\"text-align: right;\">\n",
       "      <th></th>\n",
       "      <th>Global_Sales</th>\n",
       "      <th>Percentage of Global_Sales</th>\n",
       "    </tr>\n",
       "    <tr>\n",
       "      <th>Publisher</th>\n",
       "      <th></th>\n",
       "      <th></th>\n",
       "    </tr>\n",
       "  </thead>\n",
       "  <tbody>\n",
       "    <tr>\n",
       "      <th>10TACLE Studios</th>\n",
       "      <td>0.45</td>\n",
       "      <td>0.000078</td>\n",
       "    </tr>\n",
       "    <tr>\n",
       "      <th>14 Degrees East</th>\n",
       "      <td>0.00</td>\n",
       "      <td>0.000000</td>\n",
       "    </tr>\n",
       "    <tr>\n",
       "      <th>1C Company</th>\n",
       "      <td>0.07</td>\n",
       "      <td>0.000012</td>\n",
       "    </tr>\n",
       "    <tr>\n",
       "      <th>2K Games</th>\n",
       "      <td>51.10</td>\n",
       "      <td>0.008895</td>\n",
       "    </tr>\n",
       "    <tr>\n",
       "      <th>2K Play</th>\n",
       "      <td>13.23</td>\n",
       "      <td>0.002303</td>\n",
       "    </tr>\n",
       "  </tbody>\n",
       "</table>\n",
       "</div>"
      ],
      "text/plain": [
       "                 Global_Sales  Percentage of Global_Sales\n",
       "Publisher                                                \n",
       "10TACLE Studios          0.45                    0.000078\n",
       "14 Degrees East          0.00                    0.000000\n",
       "1C Company               0.07                    0.000012\n",
       "2K Games                51.10                    0.008895\n",
       "2K Play                 13.23                    0.002303"
      ]
     },
     "execution_count": 18,
     "metadata": {},
     "output_type": "execute_result"
    }
   ],
   "source": [
    "# % of global_sales\n",
    "vg_global_sales_by_Publisher_df [\"Percentage of Global_Sales\"] = vg_global_sales_by_Publisher_df['Global_Sales'] / vg_total_global_sales\n",
    "vg_global_sales_by_Publisher_df.head()"
   ]
  },
  {
   "cell_type": "code",
   "execution_count": 19,
   "metadata": {},
   "outputs": [
    {
     "data": {
      "text/plain": [
       "Index(['Global_Sales', 'Percentage of Global_Sales'], dtype='object')"
      ]
     },
     "execution_count": 19,
     "metadata": {},
     "output_type": "execute_result"
    }
   ],
   "source": [
    "vg_global_sales_by_Publisher_df.columns"
   ]
  },
  {
   "cell_type": "code",
   "execution_count": 20,
   "metadata": {},
   "outputs": [
    {
     "data": {
      "text/html": [
       "<div>\n",
       "<style scoped>\n",
       "    .dataframe tbody tr th:only-of-type {\n",
       "        vertical-align: middle;\n",
       "    }\n",
       "\n",
       "    .dataframe tbody tr th {\n",
       "        vertical-align: top;\n",
       "    }\n",
       "\n",
       "    .dataframe thead th {\n",
       "        text-align: right;\n",
       "    }\n",
       "</style>\n",
       "<table border=\"1\" class=\"dataframe\">\n",
       "  <thead>\n",
       "    <tr style=\"text-align: right;\">\n",
       "      <th></th>\n",
       "      <th>Global_Sales</th>\n",
       "      <th>Percentage of Global_Sales</th>\n",
       "    </tr>\n",
       "    <tr>\n",
       "      <th>Publisher</th>\n",
       "      <th></th>\n",
       "      <th></th>\n",
       "    </tr>\n",
       "  </thead>\n",
       "  <tbody>\n",
       "    <tr>\n",
       "      <th>Activision</th>\n",
       "      <td>679.88</td>\n",
       "      <td>11.83%</td>\n",
       "    </tr>\n",
       "    <tr>\n",
       "      <th>Electronic Arts</th>\n",
       "      <td>612.15</td>\n",
       "      <td>10.66%</td>\n",
       "    </tr>\n",
       "    <tr>\n",
       "      <th>Ubisoft</th>\n",
       "      <td>449.04</td>\n",
       "      <td>7.82%</td>\n",
       "    </tr>\n",
       "    <tr>\n",
       "      <th>EA Sports</th>\n",
       "      <td>444.30</td>\n",
       "      <td>7.73%</td>\n",
       "    </tr>\n",
       "    <tr>\n",
       "      <th>THQ</th>\n",
       "      <td>306.66</td>\n",
       "      <td>5.34%</td>\n",
       "    </tr>\n",
       "    <tr>\n",
       "      <th>Sony Computer Entertainment</th>\n",
       "      <td>300.04</td>\n",
       "      <td>5.22%</td>\n",
       "    </tr>\n",
       "    <tr>\n",
       "      <th>Rockstar Games</th>\n",
       "      <td>236.26</td>\n",
       "      <td>4.11%</td>\n",
       "    </tr>\n",
       "    <tr>\n",
       "      <th>Konami</th>\n",
       "      <td>172.07</td>\n",
       "      <td>3.00%</td>\n",
       "    </tr>\n",
       "    <tr>\n",
       "      <th>Sega</th>\n",
       "      <td>156.20</td>\n",
       "      <td>2.72%</td>\n",
       "    </tr>\n",
       "    <tr>\n",
       "      <th>Nintendo</th>\n",
       "      <td>118.86</td>\n",
       "      <td>2.07%</td>\n",
       "    </tr>\n",
       "  </tbody>\n",
       "</table>\n",
       "</div>"
      ],
      "text/plain": [
       "                             Global_Sales Percentage of Global_Sales\n",
       "Publisher                                                           \n",
       "Activision                         679.88                     11.83%\n",
       "Electronic Arts                    612.15                     10.66%\n",
       "Ubisoft                            449.04                      7.82%\n",
       "EA Sports                          444.30                      7.73%\n",
       "THQ                                306.66                      5.34%\n",
       "Sony Computer Entertainment        300.04                      5.22%\n",
       "Rockstar Games                     236.26                      4.11%\n",
       "Konami                             172.07                      3.00%\n",
       "Sega                               156.20                      2.72%\n",
       "Nintendo                           118.86                      2.07%"
      ]
     },
     "execution_count": 20,
     "metadata": {},
     "output_type": "execute_result"
    }
   ],
   "source": [
    "vg_global_sales_by_top10_Publisher_df = vg_global_sales_by_Publisher_df.nlargest(10,'Global_Sales')\n",
    "vg_global_sales_by_top10_Publisher_df['Percentage of Global_Sales'] = pd.Series([\"{0:.2f}%\".format(val * 100) \n",
    "                                for val in vg_global_sales_by_top10_Publisher_df['Percentage of Global_Sales']],\n",
    "                                index = vg_global_sales_by_top10_Publisher_df.index)\n",
    "\n",
    "vg_global_sales_by_top10_Publisher_df"
   ]
  },
  {
   "cell_type": "code",
   "execution_count": 21,
   "metadata": {},
   "outputs": [
    {
     "data": {
      "text/plain": [
       "Index(['Global_Sales', 'Percentage of Global_Sales'], dtype='object')"
      ]
     },
     "execution_count": 21,
     "metadata": {},
     "output_type": "execute_result"
    }
   ],
   "source": [
    "vg_global_sales_by_top10_Publisher_df.columns"
   ]
  },
  {
   "cell_type": "code",
   "execution_count": 22,
   "metadata": {},
   "outputs": [],
   "source": [
    "# Add Matplotlib inline magic command\n",
    "%matplotlib inline\n",
    "# Dependencies and Setup\n",
    "import matplotlib.pyplot as plt"
   ]
  },
  {
   "cell_type": "code",
   "execution_count": 32,
   "metadata": {},
   "outputs": [
    {
     "data": {
      "text/plain": [
       "<matplotlib.axes._subplots.AxesSubplot at 0x29455e51108>"
      ]
     },
     "execution_count": 32,
     "metadata": {},
     "output_type": "execute_result"
    },
    {
     "data": {
      "image/png": "[encoded data removed]",
      "text/plain": [
       "<Figure size 432x288 with 1 Axes>"
      ]
     },
     "metadata": {
      "needs_background": "light"
     },
     "output_type": "display_data"
    }
   ],
   "source": [
    "# Build bar chart\n",
    "vg_global_sales_by_top10_Publisher_df.plot( y='Global_Sales', kind = 'bar', title = \"Global Sales (in millions) by Publisher\")"
   ]
  },
  {
   "cell_type": "markdown",
   "metadata": {},
   "source": [
    "## Global Sales by Developer"
   ]
  },
  {
   "cell_type": "code",
   "execution_count": 24,
   "metadata": {},
   "outputs": [
    {
     "data": {
      "text/plain": [
       "2138"
      ]
     },
     "execution_count": 24,
     "metadata": {},
     "output_type": "execute_result"
    }
   ],
   "source": [
    "# Count distinct values of Developer\n",
    "vg_global_sales_df['Developer'].nunique()"
   ]
  },
  {
   "cell_type": "code",
   "execution_count": 25,
   "metadata": {},
   "outputs": [
    {
     "data": {
      "text/html": [
       "<div>\n",
       "<style scoped>\n",
       "    .dataframe tbody tr th:only-of-type {\n",
       "        vertical-align: middle;\n",
       "    }\n",
       "\n",
       "    .dataframe tbody tr th {\n",
       "        vertical-align: top;\n",
       "    }\n",
       "\n",
       "    .dataframe thead th {\n",
       "        text-align: right;\n",
       "    }\n",
       "</style>\n",
       "<table border=\"1\" class=\"dataframe\">\n",
       "  <thead>\n",
       "    <tr style=\"text-align: right;\">\n",
       "      <th></th>\n",
       "      <th>Global_Sales</th>\n",
       "    </tr>\n",
       "    <tr>\n",
       "      <th>Developer</th>\n",
       "      <th></th>\n",
       "    </tr>\n",
       "  </thead>\n",
       "  <tbody>\n",
       "    <tr>\n",
       "      <th>10tacle Studios AG</th>\n",
       "      <td>0.16</td>\n",
       "    </tr>\n",
       "    <tr>\n",
       "      <th>1C Company</th>\n",
       "      <td>0.00</td>\n",
       "    </tr>\n",
       "    <tr>\n",
       "      <th>1C Company / Avalon Style</th>\n",
       "      <td>0.00</td>\n",
       "    </tr>\n",
       "    <tr>\n",
       "      <th>1C Maddox Games</th>\n",
       "      <td>0.01</td>\n",
       "    </tr>\n",
       "    <tr>\n",
       "      <th>1C: Maddox Games</th>\n",
       "      <td>0.11</td>\n",
       "    </tr>\n",
       "  </tbody>\n",
       "</table>\n",
       "</div>"
      ],
      "text/plain": [
       "                           Global_Sales\n",
       "Developer                              \n",
       "10tacle Studios AG                 0.16\n",
       "1C Company                         0.00\n",
       "1C Company / Avalon Style          0.00\n",
       "1C Maddox Games                    0.01\n",
       "1C: Maddox Games                   0.11"
      ]
     },
     "execution_count": 25,
     "metadata": {},
     "output_type": "execute_result"
    }
   ],
   "source": [
    "# Group Developer and sum\n",
    "vg_global_sales_by_Developer_df = vg_global_sales_df.groupby('Developer')[['Global_Sales']].sum()\n",
    "vg_global_sales_by_Developer_df.head()"
   ]
  },
  {
   "cell_type": "code",
   "execution_count": 26,
   "metadata": {},
   "outputs": [
    {
     "data": {
      "text/html": [
       "<div>\n",
       "<style scoped>\n",
       "    .dataframe tbody tr th:only-of-type {\n",
       "        vertical-align: middle;\n",
       "    }\n",
       "\n",
       "    .dataframe tbody tr th {\n",
       "        vertical-align: top;\n",
       "    }\n",
       "\n",
       "    .dataframe thead th {\n",
       "        text-align: right;\n",
       "    }\n",
       "</style>\n",
       "<table border=\"1\" class=\"dataframe\">\n",
       "  <thead>\n",
       "    <tr style=\"text-align: right;\">\n",
       "      <th></th>\n",
       "      <th>Global_Sales</th>\n",
       "      <th>Percentage of Global_Sales</th>\n",
       "    </tr>\n",
       "    <tr>\n",
       "      <th>Developer</th>\n",
       "      <th></th>\n",
       "      <th></th>\n",
       "    </tr>\n",
       "  </thead>\n",
       "  <tbody>\n",
       "    <tr>\n",
       "      <th>EA Canada</th>\n",
       "      <td>255.50</td>\n",
       "      <td>4.45%</td>\n",
       "    </tr>\n",
       "    <tr>\n",
       "      <th>EA Tiburon</th>\n",
       "      <td>172.41</td>\n",
       "      <td>3.00%</td>\n",
       "    </tr>\n",
       "    <tr>\n",
       "      <th>Ubisoft Montreal</th>\n",
       "      <td>164.38</td>\n",
       "      <td>2.86%</td>\n",
       "    </tr>\n",
       "    <tr>\n",
       "      <th>Treyarch</th>\n",
       "      <td>146.96</td>\n",
       "      <td>2.56%</td>\n",
       "    </tr>\n",
       "    <tr>\n",
       "      <th>Traveller's Tales</th>\n",
       "      <td>140.09</td>\n",
       "      <td>2.44%</td>\n",
       "    </tr>\n",
       "    <tr>\n",
       "      <th>Infinity Ward</th>\n",
       "      <td>118.97</td>\n",
       "      <td>2.07%</td>\n",
       "    </tr>\n",
       "    <tr>\n",
       "      <th>Rockstar North</th>\n",
       "      <td>116.91</td>\n",
       "      <td>2.04%</td>\n",
       "    </tr>\n",
       "    <tr>\n",
       "      <th>Visual Concepts</th>\n",
       "      <td>94.06</td>\n",
       "      <td>1.64%</td>\n",
       "    </tr>\n",
       "    <tr>\n",
       "      <th>Capcom</th>\n",
       "      <td>71.14</td>\n",
       "      <td>1.24%</td>\n",
       "    </tr>\n",
       "    <tr>\n",
       "      <th>Konami</th>\n",
       "      <td>68.68</td>\n",
       "      <td>1.20%</td>\n",
       "    </tr>\n",
       "  </tbody>\n",
       "</table>\n",
       "</div>"
      ],
      "text/plain": [
       "                   Global_Sales Percentage of Global_Sales\n",
       "Developer                                                 \n",
       "EA Canada                255.50                      4.45%\n",
       "EA Tiburon               172.41                      3.00%\n",
       "Ubisoft Montreal         164.38                      2.86%\n",
       "Treyarch                 146.96                      2.56%\n",
       "Traveller's Tales        140.09                      2.44%\n",
       "Infinity Ward            118.97                      2.07%\n",
       "Rockstar North           116.91                      2.04%\n",
       "Visual Concepts           94.06                      1.64%\n",
       "Capcom                    71.14                      1.24%\n",
       "Konami                    68.68                      1.20%"
      ]
     },
     "execution_count": 26,
     "metadata": {},
     "output_type": "execute_result"
    }
   ],
   "source": [
    "# % of global_sales\n",
    "vg_global_sales_by_Developer_df [\"Percentage of Global_Sales\"] = vg_global_sales_by_Developer_df['Global_Sales'] / vg_total_global_sales\n",
    "vg_global_sales_by_top10_Developer_df = vg_global_sales_by_Developer_df.nlargest(10,'Global_Sales')\n",
    "vg_global_sales_by_top10_Developer_df['Percentage of Global_Sales'] = pd.Series([\"{0:.2f}%\".format(val * 100) \n",
    "                                for val in vg_global_sales_by_top10_Developer_df['Percentage of Global_Sales']],\n",
    "                                index = vg_global_sales_by_top10_Developer_df.index)\n",
    "\n",
    "vg_global_sales_by_top10_Developer_df"
   ]
  },
  {
   "cell_type": "code",
   "execution_count": 33,
   "metadata": {},
   "outputs": [
    {
     "data": {
      "text/plain": [
       "<matplotlib.axes._subplots.AxesSubplot at 0x29455ed7288>"
      ]
     },
     "execution_count": 33,
     "metadata": {},
     "output_type": "execute_result"
    },
    {
     "data": {
      "image/png": "[encoded data removed]",
      "text/plain": [
       "<Figure size 432x288 with 1 Axes>"
      ]
     },
     "metadata": {
      "needs_background": "light"
     },
     "output_type": "display_data"
    }
   ],
   "source": [
    "# Build bar chart\n",
    "vg_global_sales_by_top10_Developer_df.plot( y='Global_Sales', kind = 'bar', title = \"Global Sales (in millions) by Developer\")"
   ]
  },
  {
   "cell_type": "markdown",
   "metadata": {},
   "source": [
    "## Global Sales by Genre"
   ]
  },
  {
   "cell_type": "code",
   "execution_count": 28,
   "metadata": {},
   "outputs": [
    {
     "data": {
      "text/plain": [
       "20"
      ]
     },
     "execution_count": 28,
     "metadata": {},
     "output_type": "execute_result"
    }
   ],
   "source": [
    "# Count distinct values of Genre\n",
    "vg_global_sales_df['Genre'].nunique()"
   ]
  },
  {
   "cell_type": "code",
   "execution_count": 29,
   "metadata": {},
   "outputs": [
    {
     "data": {
      "text/html": [
       "<div>\n",
       "<style scoped>\n",
       "    .dataframe tbody tr th:only-of-type {\n",
       "        vertical-align: middle;\n",
       "    }\n",
       "\n",
       "    .dataframe tbody tr th {\n",
       "        vertical-align: top;\n",
       "    }\n",
       "\n",
       "    .dataframe thead th {\n",
       "        text-align: right;\n",
       "    }\n",
       "</style>\n",
       "<table border=\"1\" class=\"dataframe\">\n",
       "  <thead>\n",
       "    <tr style=\"text-align: right;\">\n",
       "      <th></th>\n",
       "      <th>Global_Sales</th>\n",
       "    </tr>\n",
       "    <tr>\n",
       "      <th>Genre</th>\n",
       "      <th></th>\n",
       "    </tr>\n",
       "  </thead>\n",
       "  <tbody>\n",
       "    <tr>\n",
       "      <th>Action</th>\n",
       "      <td>1049.60</td>\n",
       "    </tr>\n",
       "    <tr>\n",
       "      <th>Action-Adventure</th>\n",
       "      <td>152.95</td>\n",
       "    </tr>\n",
       "    <tr>\n",
       "      <th>Adventure</th>\n",
       "      <td>272.66</td>\n",
       "    </tr>\n",
       "    <tr>\n",
       "      <th>Board Game</th>\n",
       "      <td>0.30</td>\n",
       "    </tr>\n",
       "    <tr>\n",
       "      <th>Education</th>\n",
       "      <td>0.09</td>\n",
       "    </tr>\n",
       "  </tbody>\n",
       "</table>\n",
       "</div>"
      ],
      "text/plain": [
       "                  Global_Sales\n",
       "Genre                         \n",
       "Action                 1049.60\n",
       "Action-Adventure        152.95\n",
       "Adventure               272.66\n",
       "Board Game                0.30\n",
       "Education                 0.09"
      ]
     },
     "execution_count": 29,
     "metadata": {},
     "output_type": "execute_result"
    }
   ],
   "source": [
    "# Group Genre and sum\n",
    "vg_global_sales_by_Genre_df = vg_global_sales_df.groupby('Genre')[['Global_Sales']].sum()\n",
    "vg_global_sales_by_Genre_df.head()"
   ]
  },
  {
   "cell_type": "code",
   "execution_count": 30,
   "metadata": {},
   "outputs": [
    {
     "data": {
      "text/html": [
       "<div>\n",
       "<style scoped>\n",
       "    .dataframe tbody tr th:only-of-type {\n",
       "        vertical-align: middle;\n",
       "    }\n",
       "\n",
       "    .dataframe tbody tr th {\n",
       "        vertical-align: top;\n",
       "    }\n",
       "\n",
       "    .dataframe thead th {\n",
       "        text-align: right;\n",
       "    }\n",
       "</style>\n",
       "<table border=\"1\" class=\"dataframe\">\n",
       "  <thead>\n",
       "    <tr style=\"text-align: right;\">\n",
       "      <th></th>\n",
       "      <th>Global_Sales</th>\n",
       "      <th>Percentage of Global_Sales</th>\n",
       "    </tr>\n",
       "    <tr>\n",
       "      <th>Genre</th>\n",
       "      <th></th>\n",
       "      <th></th>\n",
       "    </tr>\n",
       "  </thead>\n",
       "  <tbody>\n",
       "    <tr>\n",
       "      <th>Action</th>\n",
       "      <td>1049.60</td>\n",
       "      <td>18.27%</td>\n",
       "    </tr>\n",
       "    <tr>\n",
       "      <th>Sports</th>\n",
       "      <td>1007.56</td>\n",
       "      <td>17.54%</td>\n",
       "    </tr>\n",
       "    <tr>\n",
       "      <th>Shooter</th>\n",
       "      <td>930.61</td>\n",
       "      <td>16.20%</td>\n",
       "    </tr>\n",
       "    <tr>\n",
       "      <th>Racing</th>\n",
       "      <td>446.70</td>\n",
       "      <td>7.78%</td>\n",
       "    </tr>\n",
       "    <tr>\n",
       "      <th>Misc</th>\n",
       "      <td>434.75</td>\n",
       "      <td>7.57%</td>\n",
       "    </tr>\n",
       "    <tr>\n",
       "      <th>Role-Playing</th>\n",
       "      <td>395.08</td>\n",
       "      <td>6.88%</td>\n",
       "    </tr>\n",
       "    <tr>\n",
       "      <th>Platform</th>\n",
       "      <td>311.49</td>\n",
       "      <td>5.42%</td>\n",
       "    </tr>\n",
       "    <tr>\n",
       "      <th>Adventure</th>\n",
       "      <td>272.66</td>\n",
       "      <td>4.75%</td>\n",
       "    </tr>\n",
       "    <tr>\n",
       "      <th>Simulation</th>\n",
       "      <td>261.44</td>\n",
       "      <td>4.55%</td>\n",
       "    </tr>\n",
       "    <tr>\n",
       "      <th>Fighting</th>\n",
       "      <td>246.85</td>\n",
       "      <td>4.30%</td>\n",
       "    </tr>\n",
       "  </tbody>\n",
       "</table>\n",
       "</div>"
      ],
      "text/plain": [
       "              Global_Sales Percentage of Global_Sales\n",
       "Genre                                                \n",
       "Action             1049.60                     18.27%\n",
       "Sports             1007.56                     17.54%\n",
       "Shooter             930.61                     16.20%\n",
       "Racing              446.70                      7.78%\n",
       "Misc                434.75                      7.57%\n",
       "Role-Playing        395.08                      6.88%\n",
       "Platform            311.49                      5.42%\n",
       "Adventure           272.66                      4.75%\n",
       "Simulation          261.44                      4.55%\n",
       "Fighting            246.85                      4.30%"
      ]
     },
     "execution_count": 30,
     "metadata": {},
     "output_type": "execute_result"
    }
   ],
   "source": [
    "# % of global_sales\n",
    "vg_global_sales_by_Genre_df [\"Percentage of Global_Sales\"] = vg_global_sales_by_Genre_df['Global_Sales'] / vg_total_global_sales\n",
    "vg_global_sales_by_top10_Genre_df = vg_global_sales_by_Genre_df.nlargest(10,'Global_Sales')\n",
    "vg_global_sales_by_top10_Genre_df['Percentage of Global_Sales'] = pd.Series([\"{0:.2f}%\".format(val * 100) \n",
    "                                for val in vg_global_sales_by_top10_Genre_df['Percentage of Global_Sales']],\n",
    "                                index = vg_global_sales_by_top10_Genre_df.index)\n",
    "\n",
    "vg_global_sales_by_top10_Genre_df"
   ]
  },
  {
   "cell_type": "code",
   "execution_count": 34,
   "metadata": {},
   "outputs": [
    {
     "data": {
      "text/plain": [
       "<matplotlib.axes._subplots.AxesSubplot at 0x29455f5a208>"
      ]
     },
     "execution_count": 34,
     "metadata": {},
     "output_type": "execute_result"
    },
    {
     "data": {
      "image/png": "[encoded data removed]",
      "text/plain": [
       "<Figure size 432x288 with 1 Axes>"
      ]
     },
     "metadata": {
      "needs_background": "light"
     },
     "output_type": "display_data"
    }
   ],
   "source": [
    "# Build bar chart\n",
    "vg_global_sales_by_top10_Genre_df.plot( y='Global_Sales', kind = 'bar', title = \"Global Sales (in millions) by Genre\")"
   ]
  },
  {
   "cell_type": "markdown",
   "metadata": {},
   "source": [
    "# Top 10 Games with highest Global Sales"
   ]
  },
  {
   "cell_type": "code",
   "execution_count": 35,
   "metadata": {},
   "outputs": [
    {
     "data": {
      "text/html": [
       "<div>\n",
       "<style scoped>\n",
       "    .dataframe tbody tr th:only-of-type {\n",
       "        vertical-align: middle;\n",
       "    }\n",
       "\n",
       "    .dataframe tbody tr th {\n",
       "        vertical-align: top;\n",
       "    }\n",
       "\n",
       "    .dataframe thead th {\n",
       "        text-align: right;\n",
       "    }\n",
       "</style>\n",
       "<table border=\"1\" class=\"dataframe\">\n",
       "  <thead>\n",
       "    <tr style=\"text-align: right;\">\n",
       "      <th></th>\n",
       "      <th>Global_Sales</th>\n",
       "    </tr>\n",
       "    <tr>\n",
       "      <th>Name</th>\n",
       "      <th></th>\n",
       "    </tr>\n",
       "  </thead>\n",
       "  <tbody>\n",
       "    <tr>\n",
       "      <th>.hack//G.U. Last Recode</th>\n",
       "      <td>0.24</td>\n",
       "    </tr>\n",
       "    <tr>\n",
       "      <th>.hack//G.U. Vol.1//Rebirth</th>\n",
       "      <td>0.17</td>\n",
       "    </tr>\n",
       "    <tr>\n",
       "      <th>.hack//G.U. Vol.2//Reminisce</th>\n",
       "      <td>0.23</td>\n",
       "    </tr>\n",
       "    <tr>\n",
       "      <th>.hack//G.U. Vol.2//Reminisce (jp sales)</th>\n",
       "      <td>0.16</td>\n",
       "    </tr>\n",
       "    <tr>\n",
       "      <th>.hack//G.U. Vol.3//Redemption</th>\n",
       "      <td>0.17</td>\n",
       "    </tr>\n",
       "  </tbody>\n",
       "</table>\n",
       "</div>"
      ],
      "text/plain": [
       "                                         Global_Sales\n",
       "Name                                                 \n",
       ".hack//G.U. Last Recode                          0.24\n",
       ".hack//G.U. Vol.1//Rebirth                       0.17\n",
       ".hack//G.U. Vol.2//Reminisce                     0.23\n",
       ".hack//G.U. Vol.2//Reminisce (jp sales)          0.16\n",
       ".hack//G.U. Vol.3//Redemption                    0.17"
      ]
     },
     "execution_count": 35,
     "metadata": {},
     "output_type": "execute_result"
    }
   ],
   "source": [
    "# Group Genre and sum\n",
    "vg_global_sales_by_Game_df = vg_global_sales_df.groupby('Name')[['Global_Sales']].sum()\n",
    "vg_global_sales_by_Game_df.head()"
   ]
  },
  {
   "cell_type": "code",
   "execution_count": 36,
   "metadata": {},
   "outputs": [
    {
     "data": {
      "text/html": [
       "<div>\n",
       "<style scoped>\n",
       "    .dataframe tbody tr th:only-of-type {\n",
       "        vertical-align: middle;\n",
       "    }\n",
       "\n",
       "    .dataframe tbody tr th {\n",
       "        vertical-align: top;\n",
       "    }\n",
       "\n",
       "    .dataframe thead th {\n",
       "        text-align: right;\n",
       "    }\n",
       "</style>\n",
       "<table border=\"1\" class=\"dataframe\">\n",
       "  <thead>\n",
       "    <tr style=\"text-align: right;\">\n",
       "      <th></th>\n",
       "      <th>Global_Sales</th>\n",
       "      <th>Percentage of Global_Sales</th>\n",
       "    </tr>\n",
       "    <tr>\n",
       "      <th>Name</th>\n",
       "      <th></th>\n",
       "      <th></th>\n",
       "    </tr>\n",
       "  </thead>\n",
       "  <tbody>\n",
       "    <tr>\n",
       "      <th>Grand Theft Auto V</th>\n",
       "      <td>64.29</td>\n",
       "      <td>1.12%</td>\n",
       "    </tr>\n",
       "    <tr>\n",
       "      <th>Call of Duty: Black Ops</th>\n",
       "      <td>30.99</td>\n",
       "      <td>0.54%</td>\n",
       "    </tr>\n",
       "    <tr>\n",
       "      <th>Call of Duty: Modern Warfare 3</th>\n",
       "      <td>30.71</td>\n",
       "      <td>0.53%</td>\n",
       "    </tr>\n",
       "    <tr>\n",
       "      <th>Call of Duty: Black Ops II</th>\n",
       "      <td>29.59</td>\n",
       "      <td>0.52%</td>\n",
       "    </tr>\n",
       "    <tr>\n",
       "      <th>Call of Duty: Ghosts</th>\n",
       "      <td>28.80</td>\n",
       "      <td>0.50%</td>\n",
       "    </tr>\n",
       "    <tr>\n",
       "      <th>Call of Duty: Black Ops 3</th>\n",
       "      <td>26.72</td>\n",
       "      <td>0.47%</td>\n",
       "    </tr>\n",
       "    <tr>\n",
       "      <th>Call of Duty: Modern Warfare 2</th>\n",
       "      <td>25.02</td>\n",
       "      <td>0.44%</td>\n",
       "    </tr>\n",
       "    <tr>\n",
       "      <th>Minecraft</th>\n",
       "      <td>24.01</td>\n",
       "      <td>0.42%</td>\n",
       "    </tr>\n",
       "    <tr>\n",
       "      <th>Grand Theft Auto IV</th>\n",
       "      <td>22.53</td>\n",
       "      <td>0.39%</td>\n",
       "    </tr>\n",
       "    <tr>\n",
       "      <th>Call of Duty: Advanced Warfare</th>\n",
       "      <td>21.78</td>\n",
       "      <td>0.38%</td>\n",
       "    </tr>\n",
       "  </tbody>\n",
       "</table>\n",
       "</div>"
      ],
      "text/plain": [
       "                                Global_Sales Percentage of Global_Sales\n",
       "Name                                                                   \n",
       "Grand Theft Auto V                     64.29                      1.12%\n",
       "Call of Duty: Black Ops                30.99                      0.54%\n",
       "Call of Duty: Modern Warfare 3         30.71                      0.53%\n",
       "Call of Duty: Black Ops II             29.59                      0.52%\n",
       "Call of Duty: Ghosts                   28.80                      0.50%\n",
       "Call of Duty: Black Ops 3              26.72                      0.47%\n",
       "Call of Duty: Modern Warfare 2         25.02                      0.44%\n",
       "Minecraft                              24.01                      0.42%\n",
       "Grand Theft Auto IV                    22.53                      0.39%\n",
       "Call of Duty: Advanced Warfare         21.78                      0.38%"
      ]
     },
     "execution_count": 36,
     "metadata": {},
     "output_type": "execute_result"
    }
   ],
   "source": [
    "# % of global_sales\n",
    "vg_global_sales_by_Game_df [\"Percentage of Global_Sales\"] = vg_global_sales_by_Game_df['Global_Sales'] / vg_total_global_sales\n",
    "vg_global_sales_by_top10_Game_df = vg_global_sales_by_Game_df.nlargest(10,'Global_Sales')\n",
    "vg_global_sales_by_top10_Game_df['Percentage of Global_Sales'] = pd.Series([\"{0:.2f}%\".format(val * 100) \n",
    "                                for val in vg_global_sales_by_top10_Game_df['Percentage of Global_Sales']],\n",
    "                                index = vg_global_sales_by_top10_Game_df.index)\n",
    "\n",
    "vg_global_sales_by_top10_Game_df"
   ]
  },
  {
   "cell_type": "code",
   "execution_count": 37,
   "metadata": {},
   "outputs": [
    {
     "data": {
      "text/plain": [
       "<matplotlib.axes._subplots.AxesSubplot at 0x29455ff7c88>"
      ]
     },
     "execution_count": 37,
     "metadata": {},
     "output_type": "execute_result"
    },
    {
     "data": {
      "image/png": "[encoded data removed]",
      "text/plain": [
       "<Figure size 432x288 with 1 Axes>"
      ]
     },
     "metadata": {
      "needs_background": "light"
     },
     "output_type": "display_data"
    }
   ],
   "source": [
    "# Build bar chart\n",
    "vg_global_sales_by_top10_Game_df.plot( y='Global_Sales', kind = 'bar', title = \"Global Sales (in millions) by Game\")"
   ]
  },
  {
   "cell_type": "code",
   "execution_count": null,
   "metadata": {},
   "outputs": [],
   "source": []
  }
 ],
 "metadata": {
  "kernelspec": {
   "display_name": "Python 3",
   "language": "python",
   "name": "python3"
  },
  "language_info": {
   "codemirror_mode": {
    "name": "ipython",
    "version": 3
   },
   "file_extension": ".py",
   "mimetype": "text/x-python",
   "name": "python",
   "nbconvert_exporter": "python",
   "pygments_lexer": "ipython3",
   "version": "3.7.6"
  }
 },
 "nbformat": 4,
 "nbformat_minor": 4
}
