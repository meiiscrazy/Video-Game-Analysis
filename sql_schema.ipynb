{
 "cells": [
  {
   "cell_type": "markdown",
   "metadata": {},
   "source": [
    "```sql\n",
    "CREATE TABLE steam (\n",
    "    appid INT,\n",
    "    name VARCHAR,\n",
    "    release_date DATE,\n",
    "    english INT,\n",
    "    developer VARCHAR,\n",
    "    publisher VARCHAR,\n",
    "    platforms VARCHAR,\n",
    "    required_age INT,\n",
    "    categories VARCHAR,\n",
    "    genres VARCHAR,\n",
    "    steamspy_tags VARCHAR,\n",
    "    achievements INT,\n",
    "    positive_ratings INT,\n",
    "    negative_ratings INT,\n",
    "    average_ratings INT,\n",
    "    median_playtime INT,\n",
    "    owners VARCHAR,\n",
    "    price FLOAT,\n",
    "    genre_1 VARCHAR,\n",
    "    genre_2 VARCHAR,\n",
    "    genre_3 VARCHAR,\n",
    "    genre_4 VARCHAR,\n",
    "    genre_5 VARCHAR,\n",
    "    genre_6 VARCHAR,\n",
    "    genre_7 VARCHAR,\n",
    "    genre_8 VARCHAR,\n",
    "    genre_9 VARCHAR,\n",
    "    genre_10 VARCHAR,\n",
    "    genre_11 VARCHAR,\n",
    "    genre_12 VARCHAR,\n",
    "    genre_13 VARCHAR,\n",
    "    genre_14 VARCHAR,\n",
    "    genre_15 VARCHAR,\n",
    "    genre_16 VARCHAR,\n",
    "    average_rating float\n",
    ");\n",
    "\n",
    "COPY steam FROM '/Users/mei/Public/steamclean.csv' DELIMITER ',' CSV HEADER;\n",
    "\n",
    "SELECT * FROM steam;\n",
    "```"
   ]
  },
  {
   "cell_type": "markdown",
   "metadata": {},
   "source": [
    "```sql\n",
    "CREATE TABLE game_sales (\n",
    "    rank INT,\n",
    "    Name VARCHAR,\n",
    "    basename VARCHAR,\n",
    "    Genre VARCHAR,\n",
    "    ESRB_Rating VARCHAR,\n",
    "    Platform VARCHAR,\n",
    "    Publisher VARCHAR,\n",
    "    Developer VARCHAR,\n",
    "    VGChartz_Score FLOAT,\n",
    "    Critic_Score FLOAT,\n",
    "    User_Score FLOAT,\n",
    "    Total_Shipped FLOAT,\n",
    "    Global_Sales FLOAT,\n",
    "    NA_Sales FLOAT,\n",
    "    PAL_Sales FLOAT,\n",
    "    JP_Sales FLOAT,\n",
    "    Other_Sales FLOAT,\n",
    "    Year FLOAT,\n",
    "    Last_Update VARCHAR,\n",
    "    url VARCHAR,\n",
    "    status INT,\n",
    "    Vgchartzscore FLOAT,\n",
    "    img_url VARCHAR\n",
    ");\n",
    "\n",
    "COPY game_sales FROM '/Users/mei/Public/vgsales-12-4-2019.csv' DELIMITER ',' CSV HEADER;\n",
    "\n",
    "SELECT * FROM game_sales;\n",
    "```"
   ]
  },
  {
   "cell_type": "code",
   "execution_count": null,
   "metadata": {},
   "outputs": [],
   "source": []
  }
 ],
 "metadata": {
  "kernelspec": {
   "display_name": "Python 3",
   "language": "python",
   "name": "python3"
  },
  "language_info": {
   "codemirror_mode": {
    "name": "ipython",
    "version": 3
   },
   "file_extension": ".py",
   "mimetype": "text/x-python",
   "name": "python",
   "nbconvert_exporter": "python",
   "pygments_lexer": "ipython3",
   "version": "3.7.6"
  }
 },
 "nbformat": 4,
 "nbformat_minor": 4
}
